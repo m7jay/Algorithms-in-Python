{
 "cells": [
  {
   "cell_type": "code",
   "execution_count": 129,
   "metadata": {},
   "outputs": [
    {
     "name": "stdout",
     "output_type": "stream",
     "text": [
      "abcd\n",
      "[1, 2, 3, 4]\n",
      "(1, 2, 3, 2)\n",
      "b'\\x01\\x02\\x03\\x04'\n",
      "bytearray(b'\\x01\\x02\\x03\\x04')\n"
     ]
    }
   ],
   "source": [
    "#strings, lists, tuples, bytes, byte arrays\n",
    "#tuples, bytes and strings are immutable\n",
    "#lists and byte arrays are mutable\n",
    "s = \"abcd\"\n",
    "l = [1,2,3,4]\n",
    "t = (1,2,3,2)\n",
    "b = bytes(l)\n",
    "ba = bytearray(l)\n",
    "\n",
    "print(s)\n",
    "print(l)\n",
    "print(t)\n",
    "print(b)\n",
    "print(ba)"
   ]
  },
  {
   "cell_type": "code",
   "execution_count": 130,
   "metadata": {},
   "outputs": [
    {
     "name": "stdout",
     "output_type": "stream",
     "text": [
      "[1, 2, 3, 4]\n",
      "(1, 2, 3, 2)\n",
      "{1: 'one', 2: 'two'}\n"
     ]
    }
   ],
   "source": [
    "l2 = l #shallow copy\n",
    "l2 = list(l) #deep copy\n",
    "t2 = tuple(t) #deep copy\n",
    "d = {1:\"one\", 2:\"two\"}\n",
    "d2 = dict(d)\n",
    "\n",
    "print(l2)\n",
    "print(t2)\n",
    "print(d2)"
   ]
  },
  {
   "cell_type": "code",
   "execution_count": 131,
   "metadata": {},
   "outputs": [
    {
     "name": "stdout",
     "output_type": "stream",
     "text": [
      "abcdefghijklmnopqrstuvwyz Abcd....\n"
     ]
    }
   ],
   "source": [
    "string = u'abcdefghijklmnopqrstuvwyz\\u0020Abcd....' #unicode strings\n",
    "print(string)"
   ]
  },
  {
   "cell_type": "code",
   "execution_count": 132,
   "metadata": {},
   "outputs": [
    {
     "name": "stdout",
     "output_type": "stream",
     "text": [
      "Hello Good Morning!\n",
      "Morning! Good Hello\n",
      "<<<<<<<<<<<<<<<<<<<<<<<<<<<<<<<<<<<<<<<<<<<Jupyter\n",
      "python can count.\n"
     ]
    }
   ],
   "source": [
    "#string add and formating\n",
    "ls = [\"Hello\", \"Good\", \"Morning!\"]\n",
    "print(\" \".join(ls)) #print the list of strings as a sentence\n",
    "print(\" \".join(reversed(ls))) #print the reversed list as the a sentence\n",
    "\n",
    "\n",
    "#formating with rjust() and ljust()\n",
    "s = \"Jupyter\"\n",
    "s = s.rjust(50, '<')\n",
    "s = s.rjust(50, '>')\n",
    "print(s)\n",
    "print(\"{} {} {}\".format(\"python\", \"can\", \"count.\"))"
   ]
  },
  {
   "cell_type": "code",
   "execution_count": 133,
   "metadata": {},
   "outputs": [
    {
     "name": "stdout",
     "output_type": "stream",
     "text": [
      "Hi Jay!, today's date is 3-Dec-2019\n"
     ]
    }
   ],
   "source": [
    "x = \"Jay\"\n",
    "y = \"3-Dec-2019\"\n",
    "print(\"Hi {who}!, today's date is {date}\".format(**locals()))"
   ]
  },
  {
   "cell_type": "code",
   "execution_count": 134,
   "metadata": {},
   "outputs": [
    {
     "name": "stdout",
     "output_type": "stream",
     "text": [
      "['abcd', 'efgh']\n",
      "['abcd is aplha', 'right']\n"
     ]
    }
   ],
   "source": [
    "#splitting strings\n",
    "#splitlines() to split at new line char\n",
    "#split(t, n) to split at t for max n times\n",
    "#rsplit() to split from right to left\n",
    "s = \"abcd\\nefgh\"\n",
    "print(s.splitlines())\n",
    "s= \"abcd is aplha-right\"\n",
    "print(s.rsplit(\"-\"))"
   ]
  },
  {
   "cell_type": "code",
   "execution_count": 135,
   "metadata": {},
   "outputs": [
    {
     "name": "stdout",
     "output_type": "stream",
     "text": [
      "one is equal to \n"
     ]
    }
   ],
   "source": [
    "#string.strip() is used to remove all white spaces from the string\n",
    "s = \"one is equal to 1\"\n",
    "print(s.strip(\"1\"))"
   ]
  },
  {
   "cell_type": "code",
   "execution_count": 136,
   "metadata": {},
   "outputs": [
    {
     "name": "stdout",
     "output_type": "stream",
     "text": [
      "ONE IS EQUAL TO 1\n",
      "One is equal to 1\n",
      "one is equal to 1\n",
      "ONE IS EQUAL TO 1\n"
     ]
    }
   ],
   "source": [
    "print(s.swapcase())\n",
    "print(s.capitalize())\n",
    "print(s.lower())\n",
    "print(s.upper())"
   ]
  },
  {
   "cell_type": "code",
   "execution_count": 137,
   "metadata": {},
   "outputs": [
    {
     "name": "stdout",
     "output_type": "stream",
     "text": [
      "4\n",
      "13\n",
      "3\n",
      "3\n",
      "who is who is buffy\n"
     ]
    }
   ],
   "source": [
    "print(s.index('is')) #returns ValueError on failure\n",
    "print(s.find('to')) #returns -1 on failure\n",
    "s = \"buffy is buffy is buffy\"\n",
    "print(s.count('buffy', 0, len(s)))\n",
    "print(s.count('buffy'))\n",
    "print(s.replace('buffy', 'who', 2))"
   ]
  },
  {
   "cell_type": "code",
   "execution_count": 138,
   "metadata": {},
   "outputs": [
    {
     "name": "stdout",
     "output_type": "stream",
     "text": [
      "()\n",
      "('one',)\n",
      "2\n",
      "0\n"
     ]
    }
   ],
   "source": [
    "#Tuples\n",
    "t1 = ()\n",
    "t2 = 'one',\n",
    "t3 = 1,2,3,4,1,2,34\n",
    "print(t1)\n",
    "print(t2)\n",
    "print(t3.count(1))\n",
    "print(t3.index(1))"
   ]
  },
  {
   "cell_type": "code",
   "execution_count": 139,
   "metadata": {},
   "outputs": [
    {
     "name": "stdout",
     "output_type": "stream",
     "text": [
      "1\n",
      "[2, 3, 4, 5]\n"
     ]
    }
   ],
   "source": [
    "#tupdle unpacking\n",
    "x, *y = (1,2,3,4,5)\n",
    "print(x)\n",
    "print(y)"
   ]
  },
  {
   "cell_type": "code",
   "execution_count": 140,
   "metadata": {},
   "outputs": [
    {
     "name": "stdout",
     "output_type": "stream",
     "text": [
      "('abc', 300, 'aplha')\n"
     ]
    }
   ],
   "source": [
    "import collections\n",
    "MonsterTuple = collections.namedtuple(\"Monsters\", \"Name Age Power\")\n",
    "MonsterTuple = ('Vampire', 230, 'immortal')\n",
    "MonsterTuple = (\"abc\", 300, 'aplha')\n",
    "print(MonsterTuple)"
   ]
  },
  {
   "cell_type": "code",
   "execution_count": 150,
   "metadata": {},
   "outputs": [
    {
     "name": "stdout",
     "output_type": "stream",
     "text": [
      "[1, 1234, 'abcd', 'e', 'f', 'g', 'h']\n",
      "[1, 'abcd', 'e', 'f', 'g', 'h']\n"
     ]
    }
   ],
   "source": [
    "#Lists dynamically resizing arrays\n",
    "\n",
    "l = [1, 'abcd', '2.5']\n",
    "l.append(100)        #insert at end\n",
    "l.extend('efgh')     #insert at end iterating through the arg\n",
    "l.extend(['ijkl'])\n",
    "l.insert(1, 1234)    #insert at a given position\n",
    "l.remove(100)        #raises ValueError if element not found\n",
    "l.pop()              #removes the element from the given position and returns it, by default removes the last element\n",
    "l.pop(3)\n",
    "print(l)\n",
    "del l[1]\n",
    "print(l)\n",
    "del l[0]"
   ]
  },
  {
   "cell_type": "code",
   "execution_count": 154,
   "metadata": {},
   "outputs": [
    {
     "name": "stdout",
     "output_type": "stream",
     "text": [
      "['h', 'g', 'f', 'e', 'abcd']\n",
      "2\n",
      "1\n",
      "['abcd', 'e', 'f', 'g', 'h']\n",
      "['h', 'g', 'f', 'e', 'abcd']\n",
      "1\n",
      "[2, 3, 4, 5]\n"
     ]
    }
   ],
   "source": [
    "#index, count, sort, reverse methods are available for lists\n",
    "print(l)\n",
    "print(l.index(\"f\"))\n",
    "print(l.count(\"e\"))\n",
    "l.sort()\n",
    "print(l)\n",
    "l.reverse()\n",
    "print(l)\n",
    "#list unpacking simialr to tuples unpacking\n",
    "x, *y = [1,2,3,4,5]\n",
    "print(x)\n",
    "print(y)"
   ]
  },
  {
   "cell_type": "code",
   "execution_count": 156,
   "metadata": {},
   "outputs": [
    {
     "name": "stdout",
     "output_type": "stream",
     "text": [
      "['h', 'g', 'f', 'e', 'abcd']\n",
      "['h', 'g', 'f', 'e', 'abcd', 1]\n"
     ]
    }
   ],
   "source": [
    "#List Comprehensions\n",
    "#--->    [item for item in iterable]\n",
    "#--->    [expression for item in iterable]\n",
    "#--->    [expression for item in iterable if condition]\n",
    "print(l)\n",
    "print(l + [1])\n",
    "\n",
    "\n",
    "\"\"\"\n",
    "Operation Big-O Efficiency\n",
    "index [] O(1)\n",
    "index assignment O(1)\n",
    "append O(1)\n",
    "pop() O(1)\n",
    "pop(i) O(n)\n",
    "insert(i,item) O(n)\n",
    "del operator O(n)\n",
    "iteration O(n)\n",
    "contains (in) O(n)\n",
    "get slice [x:y] O(k)\n",
    "del slice O(n)\n",
    "set slice O(n+k)\n",
    "reverse O(n)\n",
    "concatenate O(k)\n",
    "sort O(n log n)\n",
    "multiply O(nk)\n",
    "\"\"\""
   ]
  }
 ],
 "metadata": {
  "kernelspec": {
   "display_name": "Python 3",
   "language": "python",
   "name": "python3"
  },
  "language_info": {
   "codemirror_mode": {
    "name": "ipython",
    "version": 3
   },
   "file_extension": ".py",
   "mimetype": "text/x-python",
   "name": "python",
   "nbconvert_exporter": "python",
   "pygments_lexer": "ipython3",
   "version": "3.6.5"
  }
 },
 "nbformat": 4,
 "nbformat_minor": 2
}
