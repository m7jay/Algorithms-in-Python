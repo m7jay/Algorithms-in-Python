{
 "cells": [
  {
   "cell_type": "code",
   "execution_count": null,
   "metadata": {},
   "outputs": [],
   "source": [
    "import sys\n",
    "import string\n",
    "def word_count():\n",
    "    words = {}\n",
    "    strip = string.whitespace + string.punctuation + string.digits + \"\\\"'\"\n",
    "    for filename in sys.argv[1:]:\n",
    "        with open(filename) as file:\n",
    "            for line in file:\n",
    "                for word in line.lower().split():\n",
    "                    word = word.strip(strip)\n",
    "                    if len(word)>2:\n",
    "                        words[word] = words.get(word, 0) + 1 #find the word in the dictionary if not present returns 0\n",
    "        if words:\n",
    "            print(\"Max Values:\")\n",
    "            max_val = max(words.values())\n",
    "            key_list = words.keys()\n",
    "            for i in key_list:\n",
    "                if words[i] == max_val:\n",
    "                    print(i, max_val)        \n",
    "            print(\"Word Count in alphabetical order:\")\n",
    "            for w in sorted(words):\n",
    "                print(\"{}:{}\".format(w, words[w]))\n",
    "        else:\n",
    "            print(\"Empty file- \", filename)\n",
    "\n",
    "sys.argv[1] = \"test.txt\"\n",
    "word_count()"
   ]
  },
  {
   "cell_type": "code",
   "execution_count": null,
   "metadata": {},
   "outputs": [],
   "source": []
  }
 ],
 "metadata": {
  "kernelspec": {
   "display_name": "Python 3",
   "language": "python",
   "name": "python3"
  },
  "language_info": {
   "codemirror_mode": {
    "name": "ipython",
    "version": 3
   },
   "file_extension": ".py",
   "mimetype": "text/x-python",
   "name": "python",
   "nbconvert_exporter": "python",
   "pygments_lexer": "ipython3",
   "version": "3.6.5"
  }
 },
 "nbformat": 4,
 "nbformat_minor": 2
}
