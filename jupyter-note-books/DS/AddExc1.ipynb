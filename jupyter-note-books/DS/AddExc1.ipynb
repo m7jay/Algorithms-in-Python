{
 "cells": [
  {
   "cell_type": "code",
   "execution_count": 1,
   "metadata": {},
   "outputs": [],
   "source": [
    "def matrix_search(m, key):\n",
    "    row = 0\n",
    "    col = len(m[0])-1\n",
    "    while row < len(m) and col >=0:\n",
    "        if m[row][col] == key:\n",
    "            return True\n",
    "        elif key < m[row][col]:\n",
    "            col -= 1\n",
    "        else:\n",
    "            row += 1\n",
    "    return False\n",
    "\n",
    "def matrix_binary_search(m, key):\n",
    "    rows = len(m)\n",
    "    cols = len(m[0])\n",
    "    lo = 0\n",
    "    hi = rows*cols\n",
    "    while lo < hi:\n",
    "        mid = (lo + hi)//2\n",
    "        row = mid // cols\n",
    "        col = mid % cols\n",
    "        if m[row][col] == key:\n",
    "            return [row, col]\n",
    "        elif m[row][col] < key:\n",
    "            lo = mid + 1\n",
    "        else:\n",
    "            hi = mid\n",
    "    return None\n",
    "\n",
    "def isUnimodalArray(arr):\n",
    "    if len(arr)<2:return False\n",
    "    left = 0\n",
    "    right = len(arr)-1\n",
    "    while right > left+1:\n",
    "        mid = (left+right)//2\n",
    "        print(left, mid, right)\n",
    "        if arr[mid-1] < arr[mid] and arr[mid+1] < arr[mid]:\n",
    "            print(\"res:\",left, mid, right)\n",
    "            return arr[mid]\n",
    "#        elif arr[mid-1] < arr[mid] and arr[mid+1] > arr[mid]:\n",
    "#            left = mid\n",
    "        else:\n",
    "#            right = mid\n",
    "            return isUnimodalArray(arr[mid:]) or isUnimodalArray(arr[:mid+1])"
   ]
  },
  {
   "cell_type": "code",
   "execution_count": 2,
   "metadata": {},
   "outputs": [
    {
     "name": "stdout",
     "output_type": "stream",
     "text": [
      "True\n",
      "[1, 0]\n",
      "0 5 10\n",
      "0 2 5\n",
      "0 1 3\n",
      "0 1 2\n",
      "0 1 2\n",
      "res: 0 1 2\n",
      "12\n"
     ]
    }
   ],
   "source": [
    "print(matrix_search([[1,2,3],[4,5,6],[7,8,9]], 4))\n",
    "print(matrix_binary_search([[1,2,3],[4,5,6],[7,8,9]], 4))\n",
    "print(isUnimodalArray([1, 2, 5, 6, 7, 10, 12, 9, 8, 7, 6] ))"
   ]
  },
  {
   "cell_type": "code",
   "execution_count": null,
   "metadata": {},
   "outputs": [],
   "source": []
  }
 ],
 "metadata": {
  "kernelspec": {
   "display_name": "Python 3",
   "language": "python",
   "name": "python3"
  },
  "language_info": {
   "codemirror_mode": {
    "name": "ipython",
    "version": 3
   },
   "file_extension": ".py",
   "mimetype": "text/x-python",
   "name": "python",
   "nbconvert_exporter": "python",
   "pygments_lexer": "ipython3",
   "version": "3.6.5"
  }
 },
 "nbformat": 4,
 "nbformat_minor": 2
}
