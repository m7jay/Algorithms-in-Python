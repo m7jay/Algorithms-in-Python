{
 "cells": [
  {
   "cell_type": "code",
   "execution_count": 3,
   "metadata": {},
   "outputs": [],
   "source": [
    "class stack(object):\n",
    "    def __init__(self):\n",
    "        self.data = []\n",
    "    \n",
    "    def push(self, value):\n",
    "        self.data.append(value)\n",
    "    \n",
    "    def pop(self):\n",
    "        if self.data == []:\n",
    "            raise Exception(\"Stack Empty!\")\n",
    "        return self.data.pop()\n",
    "    \n",
    "    def isEmpty(self):\n",
    "        return self.data == []"
   ]
  },
  {
   "cell_type": "code",
   "execution_count": 10,
   "metadata": {},
   "outputs": [
    {
     "name": "stdout",
     "output_type": "stream",
     "text": [
      "nmlkjihgfedcba\n"
     ]
    }
   ],
   "source": [
    "\"\"\"\n",
    "Reversing a str using stack\n",
    "\"\"\"\n",
    "def revstr(input_str:str)->str:\n",
    "    s = stack()\n",
    "    for i in input_str:\n",
    "        s.push(i)\n",
    "    r = \"\"\n",
    "    while not s.isEmpty():\n",
    "        r += s.pop()\n",
    "    return r\n",
    "\n",
    "print(revstr(\"abcdefghijklmn\"))"
   ]
  },
  {
   "cell_type": "code",
   "execution_count": 16,
   "metadata": {},
   "outputs": [
    {
     "name": "stdout",
     "output_type": "stream",
     "text": [
      "True\n",
      "False\n",
      "False\n"
     ]
    }
   ],
   "source": [
    "\"\"\"\n",
    "paranthesis matching\n",
    "\"\"\"\n",
    "def par_match(input_str:str)->bool:\n",
    "    s = stack()\n",
    "    res = True\n",
    "    for i in input_str:\n",
    "        if i is '(':\n",
    "            s.push('(')\n",
    "        elif i is ')':\n",
    "            if not s.isEmpty():\n",
    "                s.pop()\n",
    "            else:\n",
    "                res = False\n",
    "                break\n",
    "        else:\n",
    "            continue\n",
    "    return res and s.isEmpty()\n",
    "\n",
    "print(par_match(\"1+(2+3)*3\"))\n",
    "print(par_match(\"((1+2)*3\"))\n",
    "print(par_match(\"(1+2)*3)\"))"
   ]
  },
  {
   "cell_type": "code",
   "execution_count": 19,
   "metadata": {},
   "outputs": [
    {
     "name": "stdout",
     "output_type": "stream",
     "text": [
      "101\n"
     ]
    }
   ],
   "source": [
    "\"\"\"\n",
    "decimal to binary\n",
    "\"\"\"\n",
    "def dec2bin(num:int)->str:\n",
    "    s = stack()\n",
    "    while num:\n",
    "        s.push(num % 2)\n",
    "        num = num//2\n",
    "    res = \"\"\n",
    "    while not s.isEmpty():\n",
    "        res += str(s.pop())\n",
    "    return res\n",
    "\n",
    "print(dec2bin(5))"
   ]
  }
 ],
 "metadata": {
  "kernelspec": {
   "display_name": "Python 3",
   "language": "python",
   "name": "python3"
  },
  "language_info": {
   "codemirror_mode": {
    "name": "ipython",
    "version": 3
   },
   "file_extension": ".py",
   "mimetype": "text/x-python",
   "name": "python",
   "nbconvert_exporter": "python",
   "pygments_lexer": "ipython3",
   "version": "3.6.5"
  }
 },
 "nbformat": 4,
 "nbformat_minor": 2
}
