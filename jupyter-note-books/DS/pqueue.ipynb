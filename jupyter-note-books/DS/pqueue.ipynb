{
 "cells": [
  {
   "cell_type": "code",
   "execution_count": 29,
   "metadata": {},
   "outputs": [],
   "source": [
    "import heapq\n",
    "\n",
    "class PriorityQueue(object):\n",
    "    def __init__(self):\n",
    "        self._queue = []\n",
    "        self._index = 0\n",
    "    \n",
    "    def push(self, item, priority):\n",
    "        heapq.heappush(self._queue, (-priority, self._index, item))\n",
    "        self._index += 1\n",
    "        \n",
    "    def pop(self):\n",
    "        return heapq.heappop(self._queue)\n",
    "    \n",
    "    def __repr__(self):\n",
    "        return \"{}\".format(self._queue)"
   ]
  },
  {
   "cell_type": "code",
   "execution_count": 30,
   "metadata": {},
   "outputs": [
    {
     "name": "stdout",
     "output_type": "stream",
     "text": [
      "(-10, 2, 'ten')\n",
      "(-5, 3, 'five')\n",
      "(-3, 4, 'three')\n",
      "(-2, 1, 'two')\n",
      "(-1, 0, 'one')\n"
     ]
    }
   ],
   "source": [
    "if __name__ == \"__main__\":\n",
    "    pq = PriorityQueue()\n",
    "    pq.push(\"one\", 1)\n",
    "    pq.push(\"two\", 2)\n",
    "    pq.push(\"ten\", 10)\n",
    "    pq.push(\"five\", 5)\n",
    "    pq.push(\"three\", 3)\n",
    "    print(pq.pop())\n",
    "    print(pq.pop())\n",
    "    print(pq.pop())\n",
    "    print(pq.pop())\n",
    "    print(pq.pop())   "
   ]
  },
  {
   "cell_type": "code",
   "execution_count": 35,
   "metadata": {},
   "outputs": [
    {
     "name": "stdout",
     "output_type": "stream",
     "text": [
      "{0: [], 1: [], 2: [], 3: [], 4: [], 5: [], 6: [], 7: [], 8: [], 9: []}\n"
     ]
    }
   ],
   "source": [
    "t = {i:[] for i in range(10)}\n",
    "print(t)"
   ]
  }
 ],
 "metadata": {
  "kernelspec": {
   "display_name": "Python 3",
   "language": "python",
   "name": "python3"
  },
  "language_info": {
   "codemirror_mode": {
    "name": "ipython",
    "version": 3
   },
   "file_extension": ".py",
   "mimetype": "text/x-python",
   "name": "python",
   "nbconvert_exporter": "python",
   "pygments_lexer": "ipython3",
   "version": "3.6.5"
  }
 },
 "nbformat": 4,
 "nbformat_minor": 2
}
