{
 "cells": [
  {
   "cell_type": "code",
   "execution_count": 55,
   "metadata": {},
   "outputs": [],
   "source": [
    "from collections import defaultdict"
   ]
  },
  {
   "cell_type": "code",
   "execution_count": 56,
   "metadata": {},
   "outputs": [],
   "source": [
    "\"\"\"\n",
    "Quadratic sorting algorithms\n",
    "\"\"\"\n",
    "\n",
    "def insertion_sort(seq):\n",
    "    for i in range(1, len(seq)):\n",
    "        j = i\n",
    "        while j > 0 and seq[j-1] > seq[j]:\n",
    "            seq[j], seq[j-1] = seq[j-1], seq[j]\n",
    "            j -= 1\n",
    "    return seq\n",
    "\n",
    "def selection_sort(seq):\n",
    "    for i in range(len(seq)-1, 0, -1):\n",
    "        max_j = i\n",
    "        for j in range(max_j):\n",
    "            if seq[j] > seq[max_j]:\n",
    "                max_j = j\n",
    "        seq[i], seq[max_j] = seq[max_j], seq[i]\n",
    "    return seq\n",
    "        \n",
    "def gnome_sort(seq):\n",
    "    i = 0\n",
    "    while i < len(seq):\n",
    "        if i == 0 or seq[i-1] <= seq[i]:\n",
    "            i += 1\n",
    "        else:\n",
    "            seq[i], seq[i-1] = seq[i-1], seq[i]\n",
    "            i -= 1\n",
    "    return seq\n",
    "\n",
    "\"\"\"\n",
    "Linear sorting algorithms\n",
    "\"\"\"\n",
    "def count_sort(seq):\n",
    "    b, c = [], defaultdict(list)\n",
    "    for x in seq:\n",
    "        c[x].append(x)\n",
    "    for i in range(min(c), max(c)+1):\n",
    "        b.extend(c[i])\n",
    "    return b\n",
    "\n",
    "\n",
    "\"\"\"\n",
    "Loglinear sorting algorithms\n",
    "\"\"\"\n",
    "def merge_sort(seq):\n",
    "    if len(seq)<2: return seq\n",
    "    left, right = None, None\n",
    "    mid = len(seq)//2\n",
    "    if seq[:mid]:\n",
    "        left = merge_sort(seq[:mid])\n",
    "    if seq[mid:]:\n",
    "        right = merge_sort(seq[mid:])\n",
    "    return merge(left, right)\n",
    "\n",
    "def merge(left, right):\n",
    "    if not left and not right:\n",
    "        return left or right\n",
    "    i,j = 0,0\n",
    "    res = []\n",
    "    while i < len(left) and j < len(right):\n",
    "        if left[i] <= right[j]:\n",
    "            res.append(left[i])\n",
    "            i += 1\n",
    "        else:\n",
    "            res.append(right[j])\n",
    "            j += 1\n",
    "    if i < len(left):\n",
    "        res += left[i:]\n",
    "    elif j < len(right):\n",
    "        res += right[j:]\n",
    "    return res\n",
    "\n",
    "def quick_sort(seq):\n",
    "    if len(seq) < 2: return seq\n",
    "    mid = len(seq)//2\n",
    "    piv = seq[mid]\n",
    "    seq = seq[:mid] + seq[mid+1:]\n",
    "    lo = [x for x in seq if x <= piv]\n",
    "    hi = [x for x in seq if x > piv]\n",
    "    return quick_sort(lo) + [piv] + quick_sort(hi)"
   ]
  },
  {
   "cell_type": "code",
   "execution_count": 58,
   "metadata": {},
   "outputs": [
    {
     "name": "stdout",
     "output_type": "stream",
     "text": [
      "Insertion Sort:\n",
      "[2, 4, 5, 2, 5, 3, 1]\n",
      "[1, 2, 2, 3, 4, 5, 5]\n",
      "selection sort:\n",
      "[2, 4, 5, 2, 5, 3, 1]\n",
      "[1, 2, 2, 3, 4, 5, 5]\n",
      "gnome sort:\n",
      "[2, 4, 5, 2, 5, 3, 1]\n",
      "[1, 2, 2, 3, 4, 5, 5]\n",
      "count sort:\n",
      "[1, 2, 2, 3, 4, 5, 5]\n"
     ]
    }
   ],
   "source": [
    "l = [2,4,5,2,5,3,1]\n",
    "t = list(l)\n",
    "print(\"Insertion Sort:\")\n",
    "print(t)\n",
    "print(insertion_sort(t))\n",
    "t = list(l)\n",
    "print(\"selection sort:\")\n",
    "print(t)\n",
    "print(selection_sort(t))\n",
    "t = list(l)\n",
    "print(\"gnome sort:\")\n",
    "print(t)\n",
    "print(gnome_sort(t))\n",
    "t = list(l)\n",
    "print(\"count sort:\")\n",
    "print(count_sort(t))"
   ]
  },
  {
   "cell_type": "code",
   "execution_count": 59,
   "metadata": {},
   "outputs": [
    {
     "name": "stdout",
     "output_type": "stream",
     "text": [
      "merge sort:\n",
      "[2, 4, 5, 2, 5, 3, 1] res: [1, 2, 2, 3, 4, 5, 5]\n",
      "quick sort:\n",
      "[2, 4, 5, 2, 5, 3, 1] res: [1, 2, 2, 3, 4, 5, 5]\n"
     ]
    }
   ],
   "source": [
    "t = list(l)\n",
    "print(\"merge sort:\")\n",
    "print(l, \"res:\",merge_sort(t))\n",
    "t = list(l)\n",
    "print(\"quick sort:\")\n",
    "print(l, \"res:\", quick_sort(t))"
   ]
  }
 ],
 "metadata": {
  "kernelspec": {
   "display_name": "Python 3",
   "language": "python",
   "name": "python3"
  },
  "language_info": {
   "codemirror_mode": {
    "name": "ipython",
    "version": 3
   },
   "file_extension": ".py",
   "mimetype": "text/x-python",
   "name": "python",
   "nbconvert_exporter": "python",
   "pygments_lexer": "ipython3",
   "version": "3.6.5"
  }
 },
 "nbformat": 4,
 "nbformat_minor": 2
}
