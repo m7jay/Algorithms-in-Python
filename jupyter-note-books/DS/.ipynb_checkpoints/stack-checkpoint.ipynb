{
 "cells": [
  {
   "cell_type": "code",
   "execution_count": 9,
   "metadata": {},
   "outputs": [],
   "source": [
    "class lStack(list):\n",
    "    def __init__(self):\n",
    "        self.items = []\n",
    "    def isEmpty(self):\n",
    "        return self.items == []\n",
    "    def push(self, data):\n",
    "        self.items.append(data)\n",
    "    def pop(self):\n",
    "        if self.isEmpty():\n",
    "            raise Exceptio(\"Stack Empty!.\")\n",
    "        else:\n",
    "            return self.items.pop()\n",
    "    def size(self):\n",
    "        return len(self.items)\n",
    "    def peek(self):\n",
    "        return self.items[-1]"
   ]
  },
  {
   "cell_type": "code",
   "execution_count": 12,
   "metadata": {},
   "outputs": [
    {
     "name": "stdout",
     "output_type": "stream",
     "text": [
      "True\n",
      "1\n",
      "1\n"
     ]
    }
   ],
   "source": [
    "s = lStack()\n",
    "print(s.isEmpty())\n",
    "s.push(3)\n",
    "s.push(2)\n",
    "s.push(1)\n",
    "print(s.peek())\n",
    "print(s.pop())"
   ]
  },
  {
   "cell_type": "code",
   "execution_count": 19,
   "metadata": {},
   "outputs": [],
   "source": [
    "class Node(object):\n",
    "    def __init__(self, val=None):\n",
    "        self.data = val\n",
    "        self.next = None\n",
    "    \n",
    "class nStack(object):\n",
    "    def __init__(self):\n",
    "        self.top = None\n",
    "        \n",
    "    def isEmpty(self):\n",
    "        return not bool(self.top)\n",
    "    \n",
    "    def pop(self):\n",
    "        res = self.top\n",
    "        if res is None:\n",
    "            raise Exception(\"Stack Empty!.\")\n",
    "        self.top = res.next\n",
    "        return res.data\n",
    "    \n",
    "    def push(self, data):\n",
    "        new = Node(data)\n",
    "        new.next = self.top\n",
    "        self.top = new.next\n",
    "    \n",
    "    def size(self):\n",
    "        node = self.top\n",
    "        if node is None:\n",
    "            return 0\n",
    "        count = 1\n",
    "        while node is not None:\n",
    "            node   = node.next\n",
    "            count += 1\n",
    "        return count\n",
    "    \n",
    "    def peek(self):\n",
    "        return self.top.value"
   ]
  },
  {
   "cell_type": "code",
   "execution_count": 23,
   "metadata": {},
   "outputs": [
    {
     "name": "stdout",
     "output_type": "stream",
     "text": [
      "True\n",
      "0\n"
     ]
    }
   ],
   "source": [
    "n = nStack()\n",
    "print(n.isEmpty())\n",
    "n.push(3)\n",
    "n.push(2)\n",
    "n.push(1)\n",
    "print(n.size())"
   ]
  }
 ],
 "metadata": {
  "kernelspec": {
   "display_name": "Python 3",
   "language": "python",
   "name": "python3"
  },
  "language_info": {
   "codemirror_mode": {
    "name": "ipython",
    "version": 3
   },
   "file_extension": ".py",
   "mimetype": "text/x-python",
   "name": "python",
   "nbconvert_exporter": "python",
   "pygments_lexer": "ipython3",
   "version": "3.6.5"
  }
 },
 "nbformat": 4,
 "nbformat_minor": 2
}
