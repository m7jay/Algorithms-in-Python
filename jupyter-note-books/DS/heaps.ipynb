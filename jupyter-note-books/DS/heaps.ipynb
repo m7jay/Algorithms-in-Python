{
 "cells": [
  {
   "cell_type": "code",
   "execution_count": 23,
   "metadata": {},
   "outputs": [],
   "source": [
    "class max_heap(object):\n",
    "    def __init__(self, data=None):\n",
    "        self.data = data or []\n",
    "        for i in range(len(self.data)//2, -1, -1):\n",
    "            self.__max_heapify__(i)\n",
    "    \n",
    "    def parent(self, i):\n",
    "        return (i-1)//2\n",
    "    \n",
    "    def left_child(self, i):\n",
    "        return (i * 2) + 1\n",
    "    \n",
    "    def right_child(self, i):\n",
    "        return (i * 2) + 2\n",
    "    \n",
    "    def insert(self, value):\n",
    "        self.data.append(value)\n",
    "        n = len(self.data) - 1\n",
    "        \n",
    "        while (n != 0) and (self.data[self.parent(n)] < self.data[n]):\n",
    "            self.data[n] , self.data[self.parent(n)] = self.data[self.parent(n)], self.data[n]\n",
    "            n = self.parent(n)\n",
    "    \n",
    "    def __repr__(self):\n",
    "        return \"{}\".format(self.data)\n",
    "    \n",
    "    def __max_heapify__(self, i):\n",
    "        largest = i\n",
    "        left    = self.left_child(i)\n",
    "        right   = self.right_child(i)\n",
    "        n       = len(self.data)\n",
    "        largest = (left < n and self.data[left] > self.data[i]) and left or i\n",
    "        largest = (right < n and self.data[right] > self.data[largest]) and right or largest\n",
    "        if i is not largest:\n",
    "            self.data[i], self.data[largest] = self.data[largest], self.data[i]\n",
    "            self.__max_heapify__(largest)\n",
    "            \n",
    "    def extract_max(self):\n",
    "        max = self.data.pop(0)\n",
    "        self.__max_heapify__(0)\n",
    "        return max"
   ]
  },
  {
   "cell_type": "code",
   "execution_count": 24,
   "metadata": {},
   "outputs": [
    {
     "name": "stdout",
     "output_type": "stream",
     "text": [
      "[5, 4, 3, 1, 2]\n",
      "5\n",
      "[4, 3, 1, 2]\n",
      "4\n",
      "[3, 1, 2]\n"
     ]
    }
   ],
   "source": [
    "d = [1,2,3,4,5]\n",
    "h = max_heap(d)\n",
    "print(h)\n",
    "print(h.extract_max())\n",
    "print(h)\n",
    "print(h.extract_max())\n",
    "print(h)"
   ]
  },
  {
   "cell_type": "code",
   "execution_count": 25,
   "metadata": {},
   "outputs": [
    {
     "name": "stdout",
     "output_type": "stream",
     "text": [
      "0\n",
      "3\n"
     ]
    }
   ],
   "source": [
    "print(0 and 3)\n",
    "print(0 or 3)"
   ]
  },
  {
   "cell_type": "code",
   "execution_count": 26,
   "metadata": {},
   "outputs": [
    {
     "name": "stdout",
     "output_type": "stream",
     "text": [
      "[1, 6, 2, 3, 4]\n",
      "[6, 4, 2, 3, 1]\n"
     ]
    }
   ],
   "source": [
    "data = {1:'one', 6:'six', 2:'two', 3:'three', 4:'four'}\n",
    "keys = data.keys()\n",
    "keys = list(keys)\n",
    "print(keys)\n",
    "h2 = max_heap(keys)\n",
    "print(h2)"
   ]
  },
  {
   "cell_type": "code",
   "execution_count": 28,
   "metadata": {},
   "outputs": [
    {
     "name": "stdout",
     "output_type": "stream",
     "text": [
      "[1, 2, 3, 4, 5]\n"
     ]
    }
   ],
   "source": [
    "def heap_sort(seq):\n",
    "    h = max_heap(seq)\n",
    "    res = []\n",
    "    for i in range(len(seq)):\n",
    "        res.insert(0, h.extract_max())\n",
    "    return res\n",
    "print(heap_sort([4,3,2,5,1]))"
   ]
  },
  {
   "cell_type": "code",
   "execution_count": 1,
   "metadata": {},
   "outputs": [
    {
     "ename": "NameError",
     "evalue": "name 'max_heap' is not defined",
     "output_type": "error",
     "traceback": [
      "\u001b[1;31m---------------------------------------------------------------------------\u001b[0m",
      "\u001b[1;31mNameError\u001b[0m                                 Traceback (most recent call last)",
      "\u001b[1;32m<ipython-input-1-ad57964469f6>\u001b[0m in \u001b[0;36m<module>\u001b[1;34m()\u001b[0m\n\u001b[0;32m     10\u001b[0m     \u001b[1;32mreturn\u001b[0m \u001b[0mres\u001b[0m\u001b[1;33m\u001b[0m\u001b[0m\n\u001b[0;32m     11\u001b[0m \u001b[1;33m\u001b[0m\u001b[0m\n\u001b[1;32m---> 12\u001b[1;33m \u001b[0mprint\u001b[0m\u001b[1;33m(\u001b[0m\u001b[0mfind_k_largest_elements\u001b[0m\u001b[1;33m(\u001b[0m\u001b[1;33m[\u001b[0m\u001b[1;36m4\u001b[0m\u001b[1;33m,\u001b[0m\u001b[1;36m3\u001b[0m\u001b[1;33m,\u001b[0m\u001b[1;36m2\u001b[0m\u001b[1;33m,\u001b[0m\u001b[1;36m5\u001b[0m\u001b[1;33m,\u001b[0m\u001b[1;36m1\u001b[0m\u001b[1;33m]\u001b[0m\u001b[1;33m,\u001b[0m \u001b[1;36m2\u001b[0m\u001b[1;33m)\u001b[0m\u001b[1;33m)\u001b[0m\u001b[1;33m\u001b[0m\u001b[0m\n\u001b[0m",
      "\u001b[1;32m<ipython-input-1-ad57964469f6>\u001b[0m in \u001b[0;36mfind_k_largest_elements\u001b[1;34m(seq, k)\u001b[0m\n\u001b[0;32m      2\u001b[0m     \u001b[1;32mif\u001b[0m \u001b[0mk\u001b[0m \u001b[1;33m>\u001b[0m \u001b[0mlen\u001b[0m\u001b[1;33m(\u001b[0m\u001b[0mseq\u001b[0m\u001b[1;33m)\u001b[0m\u001b[1;33m:\u001b[0m\u001b[1;33m\u001b[0m\u001b[0m\n\u001b[0;32m      3\u001b[0m         \u001b[1;32mreturn\u001b[0m \u001b[1;32mNone\u001b[0m\u001b[1;33m\u001b[0m\u001b[0m\n\u001b[1;32m----> 4\u001b[1;33m     \u001b[0mh\u001b[0m \u001b[1;33m=\u001b[0m \u001b[0mmax_heap\u001b[0m\u001b[1;33m(\u001b[0m\u001b[0mseq\u001b[0m\u001b[1;33m)\u001b[0m\u001b[1;33m\u001b[0m\u001b[0m\n\u001b[0m\u001b[0;32m      5\u001b[0m     \u001b[0mprint\u001b[0m\u001b[1;33m(\u001b[0m\u001b[0mh\u001b[0m\u001b[1;33m)\u001b[0m\u001b[1;33m\u001b[0m\u001b[0m\n\u001b[0;32m      6\u001b[0m     \u001b[0mres\u001b[0m \u001b[1;33m=\u001b[0m \u001b[1;33m[\u001b[0m\u001b[1;33m]\u001b[0m\u001b[1;33m\u001b[0m\u001b[0m\n",
      "\u001b[1;31mNameError\u001b[0m: name 'max_heap' is not defined"
     ]
    }
   ],
   "source": [
    "def find_k_largest_elements(seq, k):\n",
    "    if k > len(seq):\n",
    "        return None\n",
    "    h = max_heap(seq)\n",
    "    print(h)\n",
    "    res = []\n",
    "    while k:\n",
    "        res.insert(0, h.extract_max())\n",
    "        k -= 1\n",
    "    return res\n",
    "\n",
    "print(find_k_largest_elements([4,3,2,5,1], 2))"
   ]
  },
  {
   "cell_type": "code",
   "execution_count": 13,
   "metadata": {},
   "outputs": [
    {
     "name": "stdout",
     "output_type": "stream",
     "text": [
      "3\n"
     ]
    }
   ],
   "source": [
    "d = {'a':1, 'b':2, 'c':3}\n",
    "l = list(d.items())\n",
    "print(l[2][1])"
   ]
  }
 ],
 "metadata": {
  "kernelspec": {
   "display_name": "Python 3",
   "language": "python",
   "name": "python3"
  },
  "language_info": {
   "codemirror_mode": {
    "name": "ipython",
    "version": 3
   },
   "file_extension": ".py",
   "mimetype": "text/x-python",
   "name": "python",
   "nbconvert_exporter": "python",
   "pygments_lexer": "ipython3",
   "version": "3.6.5"
  }
 },
 "nbformat": 4,
 "nbformat_minor": 2
}
