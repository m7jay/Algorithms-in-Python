{
 "cells": [
  {
   "cell_type": "code",
   "execution_count": null,
   "metadata": {},
   "outputs": [],
   "source": [
    "#set and dictionary are the two collection ds in python, collections module has many more\n",
    "s = {1,1,1,2,3}\n",
    "#or \n",
    "#s = set([1,1,1,2,3])\n",
    "print(s)\n",
    "s.add(4)\n",
    "print(s)\n",
    "s2 = {9,10,11, 2}\n",
    "#s.update(s2) or s |= s2\n",
    "#s.union(s2) or s|s2\n",
    "#s.intersection(s2) or s&s2\n",
    "#s.difference(s2) or s-s2\n",
    "#s.clear()     ---> removes all the items\n",
    "#s.discard(x)  ---> removes the item x from the set\n",
    "#s.remove(x)   ---> removes the item x from the list and raises KeyError if not found\n",
    "#s.pop()       ---> removes a random item from the list and KeyError if the list is empty\n",
    "#all of the above returs a new resulting set"
   ]
  },
  {
   "cell_type": "code",
   "execution_count": null,
   "metadata": {},
   "outputs": [],
   "source": [
    "#dictionaries are pyhton hashes\n",
    "d1 = dict([('one', 1), ('two',2)])\n",
    "d2 = dict(one=1, two=2)\n",
    "d3 = {'one':1, 'two':2}\n",
    "print(d1)\n",
    "print(d2)\n",
    "print(d3)\n",
    "print(d1.setdefault('three'))\n",
    "print(d1)\n",
    "d3.update(d1)  #updates the key/value pairs from the othe dict\n",
    "print(d3)"
   ]
  },
  {
   "cell_type": "code",
   "execution_count": null,
   "metadata": {},
   "outputs": [],
   "source": [
    "print(d1.get('one'))   #gets the value assosciated with the key if not present returns None\n",
    "print(d1.items())      #get dict items\n",
    "print(d1.keys())       #get keys in the dict\n",
    "print(d1.values())     #get the values of the dict\n",
    "print(d1.popitem())    #pop an item randomly\n",
    "print(d1.pop('one'))   #pop the given item\n",
    "d1.clear()             #to remove all the elements in the dict\n",
    "\"\"\"\n",
    "Big-O Efficiency of Python Dictionary Operations\n",
    "Operation Big-O Efficiency\n",
    "copy O(n)\n",
    "get item O(1)\n",
    "set item O(1)\n",
    "delete item O(1)\n",
    "contains (in) O(1)\n",
    "iteration O(n)\n",
    "\"\"\""
   ]
  },
  {
   "cell_type": "code",
   "execution_count": null,
   "metadata": {},
   "outputs": [],
   "source": [
    "#by default the dictionary is iterated on keys \n",
    "#sorted(dict1) and reversed() meethods are available for dicts\n",
    "#pythons collecions module has\n",
    "#collections.defaultdict which supports the default unorderes dicts\n",
    "#collections.OrderedDict supports the ordered dicts in the order of insertion\n",
    "#collections.Counter supports the items as the keys the number of occurrences as the value"
   ]
  }
 ],
 "metadata": {
  "kernelspec": {
   "display_name": "Python 3",
   "language": "python",
   "name": "python3"
  },
  "language_info": {
   "codemirror_mode": {
    "name": "ipython",
    "version": 3
   },
   "file_extension": ".py",
   "mimetype": "text/x-python",
   "name": "python",
   "nbconvert_exporter": "python",
   "pygments_lexer": "ipython3",
   "version": "3.6.5"
  }
 },
 "nbformat": 4,
 "nbformat_minor": 2
}
