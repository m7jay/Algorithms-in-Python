{
 "cells": [
  {
   "cell_type": "code",
   "execution_count": 16,
   "metadata": {},
   "outputs": [],
   "source": [
    "class HashTable():\n",
    "    \"\"\"\n",
    "    custom hash table with size 11\n",
    "    \"\"\"\n",
    "    def __init__(self):\n",
    "        self.size  = 11\n",
    "        self.slots = [None]*self.size\n",
    "        self.data = [None]*self.size\n",
    "    \n",
    "    def hashfunction(self, key, size):\n",
    "        return key%size\n",
    "    \n",
    "    def rehash(self, key, size):\n",
    "        return (key+1)%size\n",
    "    \n",
    "    def put(self, key, data):\n",
    "        \"\"\"\n",
    "        put a value to the has table\n",
    "        \"\"\"\n",
    "        hashvalue = self.hashfunction(key, self.size)\n",
    "        \n",
    "        if self.slots[hashvalue] == None:\n",
    "            self.slots[hashvalue]   = key\n",
    "            self.data[hashvalue]  = data\n",
    "        else:\n",
    "            if self.slots[hashvalue] == key:\n",
    "                self.data[hashvalue] = data\n",
    "            else:\n",
    "                while(self.slots[hashvalue] != None and self.slots[hashvalue] != key):\n",
    "                    hashvalue = self.rehash(hashvalue, self.size)\n",
    "                if self.slots[hashvalue] == None:\n",
    "                    self.slots[hashvalue] = key\n",
    "                    self.data[hashvalue] = data\n",
    "                else:\n",
    "                    self.data[hashvalue] = data\n",
    "    def get(self, key):\n",
    "        \"\"\"\n",
    "        get a value from the hash table for the passed key\n",
    "        \"\"\"\n",
    "        start = hashfunction(key, self.size)\n",
    "        position = start\n",
    "        found = false\n",
    "        stop = false\n",
    "        data = None\n",
    "        while self.slots[position] != None and not found and not stop:\n",
    "            if self.slots[position] == key:\n",
    "                data = self.data[position]\n",
    "                found = True\n",
    "            else:\n",
    "                position = rehash(key, self.size)\n",
    "                if position == start:\n",
    "                    stop = True\n",
    "        return data\n",
    "    \n",
    "    def __getitem__(self, key):\n",
    "        return self.get(key)\n",
    "    def __setitem__(self, key, data):\n",
    "        self.put(key, data)"
   ]
  },
  {
   "cell_type": "code",
   "execution_count": 18,
   "metadata": {},
   "outputs": [
    {
     "name": "stdout",
     "output_type": "stream",
     "text": [
      "[None, 45, 23, 13, None, None, None, None, None, None, None]\n",
      "[None, 'abcd', 'efgh', 'ijkl', None, None, None, None, None, None, None]\n"
     ]
    }
   ],
   "source": [
    "h = HashTable()\n",
    "h[45] = \"abcd\"\n",
    "h[23] = \"efgh\"\n",
    "h[13] = \"ijkl\"\n",
    "\n",
    "print(h.slots)\n",
    "print(h.data)"
   ]
  }
 ],
 "metadata": {
  "kernelspec": {
   "display_name": "Python 3",
   "language": "python",
   "name": "python3"
  },
  "language_info": {
   "codemirror_mode": {
    "name": "ipython",
    "version": 3
   },
   "file_extension": ".py",
   "mimetype": "text/x-python",
   "name": "python",
   "nbconvert_exporter": "python",
   "pygments_lexer": "ipython3",
   "version": "3.6.5"
  }
 },
 "nbformat": 4,
 "nbformat_minor": 2
}
