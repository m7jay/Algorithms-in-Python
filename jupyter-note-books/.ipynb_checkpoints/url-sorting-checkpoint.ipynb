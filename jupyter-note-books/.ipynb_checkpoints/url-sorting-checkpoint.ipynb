{
 "cells": [
  {
   "cell_type": "code",
   "execution_count": 49,
   "metadata": {},
   "outputs": [],
   "source": [
    "def solve (S, N):\n",
    "    # write your code here\n",
    "    if not S:\n",
    "        return set()\n",
    "    d = {}\n",
    "    for i in S:\n",
    "        if i not in list(d.keys()):\n",
    "            d[i] = 1\n",
    "        else:\n",
    "            d[i] += 1\n",
    "    values_list   = list(d.values())\n",
    "    key_list      = list(d.keys())\n",
    "    sorted_values = list(sorted(values_list))\n",
    "    max_val = sorted_values.pop()\n",
    "    \n",
    "    \n",
    "    print(key_list)\n",
    "    print(values_list)\n",
    "    print(sorted_values)\n",
    "    return d.keys()"
   ]
  },
  {
   "cell_type": "code",
   "execution_count": 50,
   "metadata": {},
   "outputs": [
    {
     "name": "stdout",
     "output_type": "stream",
     "text": [
      "5\n",
      "h\n",
      "w\n",
      "g\n",
      "h\n",
      "h\n",
      "['h', 'w', 'g']\n",
      "[3, 1, 1]\n",
      "[1, 1, 3]\n",
      "3\n",
      "h\n",
      "w\n",
      "g\n"
     ]
    }
   ],
   "source": [
    "N = int(input())\n",
    "S = []\n",
    "for _ in range(N):\n",
    "    S.append(input())\n",
    "\n",
    "out_ = solve(S, N)\n",
    "print (len(out_))\n",
    "for i_out_ in out_:\n",
    "    print (i_out_)"
   ]
  },
  {
   "cell_type": "code",
   "execution_count": 43,
   "metadata": {},
   "outputs": [
    {
     "name": "stdout",
     "output_type": "stream",
     "text": [
      "4\n",
      "4\n",
      "3\n",
      "2\n",
      "1\n",
      "{3, 4}\n"
     ]
    }
   ],
   "source": [
    "l = [1,2,3,4,4]\n",
    "while l:\n",
    "    print(l.pop(l.index(max(l))))\n",
    "\n",
    "s = set([1,2,3,4])\n",
    "s.pop()\n",
    "s.pop()\n",
    "print(s)"
   ]
  }
 ],
 "metadata": {
  "kernelspec": {
   "display_name": "Python 3",
   "language": "python",
   "name": "python3"
  },
  "language_info": {
   "codemirror_mode": {
    "name": "ipython",
    "version": 3
   },
   "file_extension": ".py",
   "mimetype": "text/x-python",
   "name": "python",
   "nbconvert_exporter": "python",
   "pygments_lexer": "ipython3",
   "version": "3.6.5"
  }
 },
 "nbformat": 4,
 "nbformat_minor": 2
}
