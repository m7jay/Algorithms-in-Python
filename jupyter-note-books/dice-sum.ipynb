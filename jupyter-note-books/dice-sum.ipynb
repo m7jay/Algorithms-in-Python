{
 "cells": [
  {
   "cell_type": "code",
   "execution_count": 2,
   "metadata": {},
   "outputs": [],
   "source": [
    "from collections import Counter, defaultdict"
   ]
  },
  {
   "cell_type": "code",
   "execution_count": 21,
   "metadata": {},
   "outputs": [],
   "source": [
    "def dicesum(sum, num_faces=6):\n",
    "    if sum > 2*num_faces or sum < 2:\n",
    "        return None\n",
    "    cdict = Counter()  #gives the number of ways\n",
    "    ddict = defaultdict(list) #gives all possible ways\n",
    "    for d1 in range(1, num_faces+1):\n",
    "        for d2 in range(1, num_faces+1):\n",
    "            cdict[d1+d2] += 1\n",
    "            ddict[d1+d2].append([d1, d2])\n",
    "    print(cdict)\n",
    "#    print(ddict)\n",
    "    return [cdict[sum], ddict[sum]]"
   ]
  },
  {
   "cell_type": "code",
   "execution_count": 22,
   "metadata": {},
   "outputs": [
    {
     "name": "stdout",
     "output_type": "stream",
     "text": [
      "Counter({7: 6, 6: 5, 8: 5, 5: 4, 9: 4, 4: 3, 10: 3, 3: 2, 11: 2, 2: 1, 12: 1})\n",
      "num_ways = 6\n",
      " Ways:\n",
      "[[1, 6], [2, 5], [3, 4], [4, 3], [5, 2], [6, 1]]\n"
     ]
    }
   ],
   "source": [
    "result = dicesum(7)\n",
    "print(\"num_ways = {}\\n Ways:\\n{}\".format(result[0], result[1]))"
   ]
  }
 ],
 "metadata": {
  "kernelspec": {
   "display_name": "Python 3",
   "language": "python",
   "name": "python3"
  },
  "language_info": {
   "codemirror_mode": {
    "name": "ipython",
    "version": 3
   },
   "file_extension": ".py",
   "mimetype": "text/x-python",
   "name": "python",
   "nbconvert_exporter": "python",
   "pygments_lexer": "ipython3",
   "version": "3.6.5"
  }
 },
 "nbformat": 4,
 "nbformat_minor": 2
}
